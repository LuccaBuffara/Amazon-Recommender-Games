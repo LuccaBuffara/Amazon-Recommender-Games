{
 "cells": [
  {
   "cell_type": "code",
   "execution_count": 1,
   "id": "f1e42495",
   "metadata": {},
   "outputs": [],
   "source": [
    "import os\n",
    "import json\n",
    "import gzip\n",
    "import random\n",
    "import pandas as pd\n",
    "import seaborn as sns\n",
    "from urllib.request import urlopen"
   ]
  },
  {
   "cell_type": "code",
   "execution_count": 2,
   "id": "fdc053b6",
   "metadata": {},
   "outputs": [],
   "source": [
    "GZIP_PATH = \"Video_Games.json.gz\""
   ]
  },
  {
   "cell_type": "code",
   "execution_count": 3,
   "id": "90a1a76d",
   "metadata": {},
   "outputs": [
    {
     "name": "stdout",
     "output_type": "stream",
     "text": [
      "2565349\n",
      "{'overall': 1.0, 'verified': True, 'reviewTime': '06 9, 2014', 'reviewerID': 'A21ROB4YDOZA5P', 'asin': '0439381673', 'reviewerName': 'Mary M. Clark', 'reviewText': 'I used to play this game years ago and loved it. I found this did not work on my computer even though it said it would work with Windows 7.', 'summary': 'Did not like this', 'unixReviewTime': 1402272000}\n"
     ]
    }
   ],
   "source": [
    "data = []\n",
    "with gzip.open(GZIP_PATH) as f:\n",
    "    data.extend(json.loads(l.strip()) for l in f)\n",
    "# total length of list, this number equals total number of products\n",
    "print(len(data))\n",
    "\n",
    "# first row of the list\n",
    "print(data[0])"
   ]
  },
  {
   "cell_type": "code",
   "execution_count": 4,
   "id": "199f6495",
   "metadata": {},
   "outputs": [],
   "source": [
    "from collections import Counter\n",
    "import json"
   ]
  },
  {
   "cell_type": "code",
   "execution_count": 5,
   "id": "78d87988",
   "metadata": {},
   "outputs": [
    {
     "data": {
      "text/plain": [
       "71982"
      ]
     },
     "execution_count": 5,
     "metadata": {},
     "output_type": "execute_result"
    }
   ],
   "source": [
    "#Number of unique items\n",
    "counts = Counter([item['asin'] for item in data])\n",
    "len(counts)"
   ]
  },
  {
   "cell_type": "code",
   "execution_count": 6,
   "id": "40169981",
   "metadata": {},
   "outputs": [],
   "source": [
    "#Sort by date\n",
    "sorted_data = sorted(data, key=lambda x: x['unixReviewTime'])"
   ]
  },
  {
   "cell_type": "code",
   "execution_count": 7,
   "id": "da06d66d",
   "metadata": {},
   "outputs": [
    {
     "data": {
      "text/plain": [
       "{'overall': 1.0,\n",
       " 'verified': True,\n",
       " 'reviewTime': '10 2, 2018',\n",
       " 'reviewerID': 'AXBO2KGK2B4UP',\n",
       " 'asin': 'B01HD1B64C',\n",
       " 'style': {'Platform:': ' PlayStation 4'},\n",
       " 'reviewerName': 'Kevin',\n",
       " 'reviewText': 'This game is garbage. Choppy controls, mediocre graphics, dull gameplay, and easily one of the hammiest and most poorly written intro videos in modern gaming, this game simply does nothing right.',\n",
       " 'summary': 'Avoid this game',\n",
       " 'unixReviewTime': 1538438400}"
      ]
     },
     "execution_count": 7,
     "metadata": {},
     "output_type": "execute_result"
    }
   ],
   "source": [
    "sorted_data[-1]"
   ]
  },
  {
   "cell_type": "code",
   "execution_count": 8,
   "id": "a9488aff",
   "metadata": {},
   "outputs": [],
   "source": [
    "#Only get reviews starting from 2010\n",
    "# filtered_data = filter(lambda x: x['unixReviewTime'] >= 1262314861, data)\n",
    "# filtered_data = list(filtered_data)\n",
    "filtered_data = sorted_data"
   ]
  },
  {
   "cell_type": "code",
   "execution_count": 9,
   "id": "e77ac6b1",
   "metadata": {},
   "outputs": [
    {
     "data": {
      "text/plain": [
       "2565349"
      ]
     },
     "execution_count": 9,
     "metadata": {},
     "output_type": "execute_result"
    }
   ],
   "source": [
    "data = sorted(filtered_data, key=lambda x: x['unixReviewTime'])\n",
    "len(data)"
   ]
  },
  {
   "cell_type": "code",
   "execution_count": 10,
   "id": "5a9a0b55",
   "metadata": {},
   "outputs": [],
   "source": [
    "#Remove unwanted fields\n",
    "\n",
    "for entry in data:\n",
    "    if 'reviewTime' in entry:\n",
    "        del entry['reviewTime']\n",
    "    if 'style' in entry:\n",
    "        del entry['style']\n",
    "    if 'reviewerName' in entry:\n",
    "        del entry['reviewerName']\n",
    "    if 'reviewText' in entry:\n",
    "        del entry['reviewText']\n",
    "    if 'summary' in entry:\n",
    "        del entry['summary']\n",
    "    if 'image' in entry:\n",
    "        del entry['image']"
   ]
  },
  {
   "cell_type": "code",
   "execution_count": 11,
   "id": "e60597be",
   "metadata": {},
   "outputs": [
    {
     "data": {
      "text/html": [
       "<div>\n",
       "<style scoped>\n",
       "    .dataframe tbody tr th:only-of-type {\n",
       "        vertical-align: middle;\n",
       "    }\n",
       "\n",
       "    .dataframe tbody tr th {\n",
       "        vertical-align: top;\n",
       "    }\n",
       "\n",
       "    .dataframe thead th {\n",
       "        text-align: right;\n",
       "    }\n",
       "</style>\n",
       "<table border=\"1\" class=\"dataframe\">\n",
       "  <thead>\n",
       "    <tr style=\"text-align: right;\">\n",
       "      <th></th>\n",
       "      <th>overall</th>\n",
       "      <th>verified</th>\n",
       "      <th>reviewerID</th>\n",
       "      <th>asin</th>\n",
       "      <th>unixReviewTime</th>\n",
       "      <th>vote</th>\n",
       "    </tr>\n",
       "  </thead>\n",
       "  <tbody>\n",
       "    <tr>\n",
       "      <th>0</th>\n",
       "      <td>5.0</td>\n",
       "      <td>False</td>\n",
       "      <td>AR9HFLYSXUOYS</td>\n",
       "      <td>B00000JL6V</td>\n",
       "      <td>878947200</td>\n",
       "      <td>NaN</td>\n",
       "    </tr>\n",
       "    <tr>\n",
       "      <th>1</th>\n",
       "      <td>5.0</td>\n",
       "      <td>False</td>\n",
       "      <td>A26Y5BK10TL1OI</td>\n",
       "      <td>B00000JL6V</td>\n",
       "      <td>880761600</td>\n",
       "      <td>NaN</td>\n",
       "    </tr>\n",
       "    <tr>\n",
       "      <th>2</th>\n",
       "      <td>5.0</td>\n",
       "      <td>False</td>\n",
       "      <td>A3VMPX6KW6VSQY</td>\n",
       "      <td>B00000JL6V</td>\n",
       "      <td>881884800</td>\n",
       "      <td>NaN</td>\n",
       "    </tr>\n",
       "    <tr>\n",
       "      <th>3</th>\n",
       "      <td>1.0</td>\n",
       "      <td>False</td>\n",
       "      <td>A3N83WBSOG9PE4</td>\n",
       "      <td>B00000JL6V</td>\n",
       "      <td>882057600</td>\n",
       "      <td>2</td>\n",
       "    </tr>\n",
       "    <tr>\n",
       "      <th>4</th>\n",
       "      <td>4.0</td>\n",
       "      <td>False</td>\n",
       "      <td>A2Q6FRINMH0R81</td>\n",
       "      <td>B00000JL6V</td>\n",
       "      <td>882230400</td>\n",
       "      <td>NaN</td>\n",
       "    </tr>\n",
       "  </tbody>\n",
       "</table>\n",
       "</div>"
      ],
      "text/plain": [
       "   overall  verified      reviewerID        asin  unixReviewTime vote\n",
       "0      5.0     False   AR9HFLYSXUOYS  B00000JL6V       878947200  NaN\n",
       "1      5.0     False  A26Y5BK10TL1OI  B00000JL6V       880761600  NaN\n",
       "2      5.0     False  A3VMPX6KW6VSQY  B00000JL6V       881884800  NaN\n",
       "3      1.0     False  A3N83WBSOG9PE4  B00000JL6V       882057600    2\n",
       "4      4.0     False  A2Q6FRINMH0R81  B00000JL6V       882230400  NaN"
      ]
     },
     "execution_count": 11,
     "metadata": {},
     "output_type": "execute_result"
    }
   ],
   "source": [
    "df = pd.DataFrame.from_dict(data)\n",
    "df.head()"
   ]
  },
  {
   "cell_type": "code",
   "execution_count": 12,
   "id": "1022d21c",
   "metadata": {},
   "outputs": [
    {
     "data": {
      "text/html": [
       "<div>\n",
       "<style scoped>\n",
       "    .dataframe tbody tr th:only-of-type {\n",
       "        vertical-align: middle;\n",
       "    }\n",
       "\n",
       "    .dataframe tbody tr th {\n",
       "        vertical-align: top;\n",
       "    }\n",
       "\n",
       "    .dataframe thead th {\n",
       "        text-align: right;\n",
       "    }\n",
       "</style>\n",
       "<table border=\"1\" class=\"dataframe\">\n",
       "  <thead>\n",
       "    <tr style=\"text-align: right;\">\n",
       "      <th></th>\n",
       "      <th>overall</th>\n",
       "      <th>verified</th>\n",
       "      <th>reviewerID</th>\n",
       "      <th>asin</th>\n",
       "      <th>unixReviewTime</th>\n",
       "      <th>vote</th>\n",
       "    </tr>\n",
       "  </thead>\n",
       "  <tbody>\n",
       "    <tr>\n",
       "      <th>0</th>\n",
       "      <td>5.0</td>\n",
       "      <td>False</td>\n",
       "      <td>AR9HFLYSXUOYS</td>\n",
       "      <td>B00000JL6V</td>\n",
       "      <td>878947200</td>\n",
       "      <td>0</td>\n",
       "    </tr>\n",
       "    <tr>\n",
       "      <th>1</th>\n",
       "      <td>5.0</td>\n",
       "      <td>False</td>\n",
       "      <td>A26Y5BK10TL1OI</td>\n",
       "      <td>B00000JL6V</td>\n",
       "      <td>880761600</td>\n",
       "      <td>0</td>\n",
       "    </tr>\n",
       "    <tr>\n",
       "      <th>2</th>\n",
       "      <td>5.0</td>\n",
       "      <td>False</td>\n",
       "      <td>A3VMPX6KW6VSQY</td>\n",
       "      <td>B00000JL6V</td>\n",
       "      <td>881884800</td>\n",
       "      <td>0</td>\n",
       "    </tr>\n",
       "    <tr>\n",
       "      <th>3</th>\n",
       "      <td>1.0</td>\n",
       "      <td>False</td>\n",
       "      <td>A3N83WBSOG9PE4</td>\n",
       "      <td>B00000JL6V</td>\n",
       "      <td>882057600</td>\n",
       "      <td>2</td>\n",
       "    </tr>\n",
       "    <tr>\n",
       "      <th>4</th>\n",
       "      <td>4.0</td>\n",
       "      <td>False</td>\n",
       "      <td>A2Q6FRINMH0R81</td>\n",
       "      <td>B00000JL6V</td>\n",
       "      <td>882230400</td>\n",
       "      <td>0</td>\n",
       "    </tr>\n",
       "  </tbody>\n",
       "</table>\n",
       "</div>"
      ],
      "text/plain": [
       "   overall  verified      reviewerID        asin  unixReviewTime vote\n",
       "0      5.0     False   AR9HFLYSXUOYS  B00000JL6V       878947200    0\n",
       "1      5.0     False  A26Y5BK10TL1OI  B00000JL6V       880761600    0\n",
       "2      5.0     False  A3VMPX6KW6VSQY  B00000JL6V       881884800    0\n",
       "3      1.0     False  A3N83WBSOG9PE4  B00000JL6V       882057600    2\n",
       "4      4.0     False  A2Q6FRINMH0R81  B00000JL6V       882230400    0"
      ]
     },
     "execution_count": 12,
     "metadata": {},
     "output_type": "execute_result"
    }
   ],
   "source": [
    "#Fill vote NaN to 0\n",
    "df[['vote']] = df[['vote']].fillna(value=0)\n",
    "df.head()"
   ]
  },
  {
   "cell_type": "code",
   "execution_count": 13,
   "id": "d23290a4",
   "metadata": {},
   "outputs": [
    {
     "data": {
      "text/plain": [
       "asin\n",
       "0042000742     1\n",
       "0078764343     4\n",
       "0276425316     1\n",
       "0324411812     1\n",
       "0439335299     1\n",
       "              ..\n",
       "B01HJ14OT0     1\n",
       "B01HJ14TTA     4\n",
       "B01HJ1521Y     1\n",
       "B01HJC33WS    22\n",
       "B01HJEBIAA    30\n",
       "Name: overall, Length: 71982, dtype: int64"
      ]
     },
     "execution_count": 13,
     "metadata": {},
     "output_type": "execute_result"
    }
   ],
   "source": [
    "#Number of reviews per product\n",
    "df.groupby(['asin']).count()['overall']"
   ]
  },
  {
   "cell_type": "code",
   "execution_count": null,
   "id": "0c30c1ca",
   "metadata": {},
   "outputs": [
    {
     "ename": "",
     "evalue": "",
     "output_type": "error",
     "traceback": [
      "\u001b[1;31mnotebook controller is DISPOSED. \n",
      "\u001b[1;31mView Jupyter <a href='command:jupyter.viewOutput'>log</a> for further details."
     ]
    },
    {
     "ename": "",
     "evalue": "",
     "output_type": "error",
     "traceback": [
      "\u001b[1;31mnotebook controller is DISPOSED. \n",
      "\u001b[1;31mView Jupyter <a href='command:jupyter.viewOutput'>log</a> for further details."
     ]
    }
   ],
   "source": [
    "overall_count = pd.DataFrame(df['overall'].value_counts()).reset_index()\n",
    "overall_count.columns = ['overall', 'count']\n",
    "overall_count"
   ]
  },
  {
   "cell_type": "code",
   "execution_count": 14,
   "id": "b40590eb",
   "metadata": {},
   "outputs": [],
   "source": [
    "#Get popular products -- Products that have more than 1k reviews\n",
    "popular_data = df.groupby(\"asin\").filter(lambda x:x['overall'].count() >= 1000)\n",
    "popular_products = pd.DataFrame(popular_data.groupby('asin')['overall'].count())\n",
    "popular_products = popular_products.sort_values('overall', ascending=False)"
   ]
  },
  {
   "cell_type": "code",
   "execution_count": 15,
   "id": "a3587792",
   "metadata": {},
   "outputs": [
    {
     "data": {
      "text/plain": [
       "Text(0.5, 1.0, 'Popular Products Bar Chart')"
      ]
     },
     "execution_count": 15,
     "metadata": {},
     "output_type": "execute_result"
    },
    {
     "data": {
      "image/png": "[encoded data removed]",
      "text/plain": [
       "<Figure size 1500x700 with 1 Axes>"
      ]
     },
     "metadata": {},
     "output_type": "display_data"
    }
   ],
   "source": [
    "ax = popular_products.head(30).plot(kind = \"bar\", figsize=(15,7))\n",
    "ax.set_xlabel(\"Product ID\")\n",
    "ax.set_ylabel(\"Ratings Count\")\n",
    "ax.set_title(\"Popular Products Bar Chart\")"
   ]
  },
  {
   "cell_type": "code",
   "execution_count": 16,
   "id": "3f31228d",
   "metadata": {},
   "outputs": [],
   "source": [
    "# from surprise import KNNWithMeans\n",
    "from surprise import SVD, SVDpp, NMF, CoClustering\n",
    "from surprise import Dataset\n",
    "from surprise import accuracy\n",
    "from surprise import Reader\n",
    "from surprise.model_selection import train_test_split\n",
    "from collections import defaultdict\n",
    "from surprise.model_selection import GridSearchCV"
   ]
  },
  {
   "cell_type": "code",
   "execution_count": 17,
   "id": "f0893d70",
   "metadata": {},
   "outputs": [
    {
     "data": {
      "text/html": [
       "<div>\n",
       "<style scoped>\n",
       "    .dataframe tbody tr th:only-of-type {\n",
       "        vertical-align: middle;\n",
       "    }\n",
       "\n",
       "    .dataframe tbody tr th {\n",
       "        vertical-align: top;\n",
       "    }\n",
       "\n",
       "    .dataframe thead th {\n",
       "        text-align: right;\n",
       "    }\n",
       "</style>\n",
       "<table border=\"1\" class=\"dataframe\">\n",
       "  <thead>\n",
       "    <tr style=\"text-align: right;\">\n",
       "      <th></th>\n",
       "      <th>reviewerID</th>\n",
       "      <th>asin</th>\n",
       "      <th>overall</th>\n",
       "    </tr>\n",
       "  </thead>\n",
       "  <tbody>\n",
       "    <tr>\n",
       "      <th>0</th>\n",
       "      <td>AR9HFLYSXUOYS</td>\n",
       "      <td>B00000JL6V</td>\n",
       "      <td>5.0</td>\n",
       "    </tr>\n",
       "    <tr>\n",
       "      <th>1</th>\n",
       "      <td>A26Y5BK10TL1OI</td>\n",
       "      <td>B00000JL6V</td>\n",
       "      <td>5.0</td>\n",
       "    </tr>\n",
       "    <tr>\n",
       "      <th>2</th>\n",
       "      <td>A3VMPX6KW6VSQY</td>\n",
       "      <td>B00000JL6V</td>\n",
       "      <td>5.0</td>\n",
       "    </tr>\n",
       "    <tr>\n",
       "      <th>3</th>\n",
       "      <td>A3N83WBSOG9PE4</td>\n",
       "      <td>B00000JL6V</td>\n",
       "      <td>1.0</td>\n",
       "    </tr>\n",
       "    <tr>\n",
       "      <th>4</th>\n",
       "      <td>A2Q6FRINMH0R81</td>\n",
       "      <td>B00000JL6V</td>\n",
       "      <td>4.0</td>\n",
       "    </tr>\n",
       "  </tbody>\n",
       "</table>\n",
       "</div>"
      ],
      "text/plain": [
       "       reviewerID        asin  overall\n",
       "0   AR9HFLYSXUOYS  B00000JL6V      5.0\n",
       "1  A26Y5BK10TL1OI  B00000JL6V      5.0\n",
       "2  A3VMPX6KW6VSQY  B00000JL6V      5.0\n",
       "3  A3N83WBSOG9PE4  B00000JL6V      1.0\n",
       "4  A2Q6FRINMH0R81  B00000JL6V      4.0"
      ]
     },
     "execution_count": 17,
     "metadata": {},
     "output_type": "execute_result"
    }
   ],
   "source": [
    "cf_data = df[['reviewerID', 'asin', 'overall']]\n",
    "cf_data.head()"
   ]
  },
  {
   "cell_type": "code",
   "execution_count": 18,
   "id": "4934757e",
   "metadata": {},
   "outputs": [],
   "source": [
    "reader = Reader(rating_scale=(1, 5))\n",
    "\n",
    "full_data = Dataset.load_from_df(cf_data, reader)\n",
    "traindata = full_data.build_full_trainset()"
   ]
  },
  {
   "cell_type": "code",
   "execution_count": 19,
   "id": "601745bc",
   "metadata": {},
   "outputs": [],
   "source": [
    "#Build anti test set\n",
    "\n",
    "fill = traindata.global_mean\n",
    "\n",
    "anti_testset = []\n",
    "for u in traindata.all_users()[0:1]:\n",
    "    user_items = {j for (j, _) in traindata.ur[u]}\n",
    "\n",
    "    anti_testset += [\n",
    "        (traindata.to_raw_uid(u), traindata.to_raw_iid(i), fill) for i in traindata.all_items() if i not in user_items ]"
   ]
  },
  {
   "cell_type": "code",
   "execution_count": 20,
   "id": "89fc794d",
   "metadata": {},
   "outputs": [
    {
     "data": {
      "text/plain": [
       "<surprise.prediction_algorithms.matrix_factorization.SVD at 0x7f68a3d3b0a0>"
      ]
     },
     "execution_count": 20,
     "metadata": {},
     "output_type": "execute_result"
    }
   ],
   "source": [
    "algo = SVD()\n",
    "algo.fit(traindata)"
   ]
  },
  {
   "cell_type": "code",
   "execution_count": 21,
   "id": "02e5851a",
   "metadata": {},
   "outputs": [],
   "source": [
    "predictions = algo.test(anti_testset)"
   ]
  },
  {
   "cell_type": "code",
   "execution_count": 22,
   "id": "14d81e41",
   "metadata": {},
   "outputs": [],
   "source": [
    "# return number of items rated by given user\n",
    "def get_Iu(uid):\n",
    "    try:\n",
    "        return len(traindata.ur[traindata.to_inner_uid(uid)])\n",
    "    except ValueError: # user was not part of the trainset\n",
    "        return 0\n",
    "    \n",
    "# return number of users that have rated given item\n",
    "def get_Ui(iid):\n",
    "    try: \n",
    "        return len(traindata.ir[traindata.to_inner_iid(iid)])\n",
    "    except ValueError:\n",
    "        return 0\n",
    "    \n",
    "df = pd.DataFrame(predictions, columns=['uid', 'iid', 'rui', 'est', 'details'])\n",
    "df['Iu'] = df.uid.apply(get_Iu)\n",
    "df['Ui'] = df.iid.apply(get_Ui)\n",
    "df['err'] = abs(df.est - df.rui)"
   ]
  },
  {
   "cell_type": "code",
   "execution_count": 23,
   "id": "8125b127",
   "metadata": {},
   "outputs": [
    {
     "data": {
      "text/html": [
       "<div>\n",
       "<style scoped>\n",
       "    .dataframe tbody tr th:only-of-type {\n",
       "        vertical-align: middle;\n",
       "    }\n",
       "\n",
       "    .dataframe tbody tr th {\n",
       "        vertical-align: top;\n",
       "    }\n",
       "\n",
       "    .dataframe thead th {\n",
       "        text-align: right;\n",
       "    }\n",
       "</style>\n",
       "<table border=\"1\" class=\"dataframe\">\n",
       "  <thead>\n",
       "    <tr style=\"text-align: right;\">\n",
       "      <th></th>\n",
       "      <th>uid</th>\n",
       "      <th>iid</th>\n",
       "      <th>rui</th>\n",
       "      <th>est</th>\n",
       "      <th>details</th>\n",
       "      <th>Iu</th>\n",
       "      <th>Ui</th>\n",
       "      <th>err</th>\n",
       "    </tr>\n",
       "  </thead>\n",
       "  <tbody>\n",
       "    <tr>\n",
       "      <th>69089</th>\n",
       "      <td>AR9HFLYSXUOYS</td>\n",
       "      <td>B01FSYP04I</td>\n",
       "      <td>4.022095</td>\n",
       "      <td>4.022086</td>\n",
       "      <td>{'was_impossible': False}</td>\n",
       "      <td>1</td>\n",
       "      <td>3</td>\n",
       "      <td>0.000009</td>\n",
       "    </tr>\n",
       "    <tr>\n",
       "      <th>22995</th>\n",
       "      <td>AR9HFLYSXUOYS</td>\n",
       "      <td>B000035XOZ</td>\n",
       "      <td>4.022095</td>\n",
       "      <td>4.022083</td>\n",
       "      <td>{'was_impossible': False}</td>\n",
       "      <td>1</td>\n",
       "      <td>2</td>\n",
       "      <td>0.000012</td>\n",
       "    </tr>\n",
       "    <tr>\n",
       "      <th>16188</th>\n",
       "      <td>AR9HFLYSXUOYS</td>\n",
       "      <td>B000SQ5LNW</td>\n",
       "      <td>4.022095</td>\n",
       "      <td>4.022130</td>\n",
       "      <td>{'was_impossible': False}</td>\n",
       "      <td>1</td>\n",
       "      <td>8</td>\n",
       "      <td>0.000035</td>\n",
       "    </tr>\n",
       "    <tr>\n",
       "      <th>40659</th>\n",
       "      <td>AR9HFLYSXUOYS</td>\n",
       "      <td>B00HAZ6BVA</td>\n",
       "      <td>4.022095</td>\n",
       "      <td>4.022055</td>\n",
       "      <td>{'was_impossible': False}</td>\n",
       "      <td>1</td>\n",
       "      <td>6</td>\n",
       "      <td>0.000040</td>\n",
       "    </tr>\n",
       "    <tr>\n",
       "      <th>45789</th>\n",
       "      <td>AR9HFLYSXUOYS</td>\n",
       "      <td>B00E8IBYFK</td>\n",
       "      <td>4.022095</td>\n",
       "      <td>4.022140</td>\n",
       "      <td>{'was_impossible': False}</td>\n",
       "      <td>1</td>\n",
       "      <td>1</td>\n",
       "      <td>0.000045</td>\n",
       "    </tr>\n",
       "    <tr>\n",
       "      <th>70440</th>\n",
       "      <td>AR9HFLYSXUOYS</td>\n",
       "      <td>B012J285C6</td>\n",
       "      <td>4.022095</td>\n",
       "      <td>4.022045</td>\n",
       "      <td>{'was_impossible': False}</td>\n",
       "      <td>1</td>\n",
       "      <td>2</td>\n",
       "      <td>0.000049</td>\n",
       "    </tr>\n",
       "    <tr>\n",
       "      <th>331</th>\n",
       "      <td>AR9HFLYSXUOYS</td>\n",
       "      <td>B00001IVWH</td>\n",
       "      <td>4.022095</td>\n",
       "      <td>4.022148</td>\n",
       "      <td>{'was_impossible': False}</td>\n",
       "      <td>1</td>\n",
       "      <td>4</td>\n",
       "      <td>0.000053</td>\n",
       "    </tr>\n",
       "    <tr>\n",
       "      <th>36348</th>\n",
       "      <td>AR9HFLYSXUOYS</td>\n",
       "      <td>B00BG2LKLO</td>\n",
       "      <td>4.022095</td>\n",
       "      <td>4.022149</td>\n",
       "      <td>{'was_impossible': False}</td>\n",
       "      <td>1</td>\n",
       "      <td>1</td>\n",
       "      <td>0.000054</td>\n",
       "    </tr>\n",
       "    <tr>\n",
       "      <th>30077</th>\n",
       "      <td>AR9HFLYSXUOYS</td>\n",
       "      <td>B0050SVHZO</td>\n",
       "      <td>4.022095</td>\n",
       "      <td>4.022040</td>\n",
       "      <td>{'was_impossible': False}</td>\n",
       "      <td>1</td>\n",
       "      <td>287</td>\n",
       "      <td>0.000054</td>\n",
       "    </tr>\n",
       "    <tr>\n",
       "      <th>71473</th>\n",
       "      <td>AR9HFLYSXUOYS</td>\n",
       "      <td>B01CG8TT64</td>\n",
       "      <td>4.022095</td>\n",
       "      <td>4.022151</td>\n",
       "      <td>{'was_impossible': False}</td>\n",
       "      <td>1</td>\n",
       "      <td>1</td>\n",
       "      <td>0.000056</td>\n",
       "    </tr>\n",
       "  </tbody>\n",
       "</table>\n",
       "</div>"
      ],
      "text/plain": [
       "                 uid         iid       rui       est  \\\n",
       "69089  AR9HFLYSXUOYS  B01FSYP04I  4.022095  4.022086   \n",
       "22995  AR9HFLYSXUOYS  B000035XOZ  4.022095  4.022083   \n",
       "16188  AR9HFLYSXUOYS  B000SQ5LNW  4.022095  4.022130   \n",
       "40659  AR9HFLYSXUOYS  B00HAZ6BVA  4.022095  4.022055   \n",
       "45789  AR9HFLYSXUOYS  B00E8IBYFK  4.022095  4.022140   \n",
       "70440  AR9HFLYSXUOYS  B012J285C6  4.022095  4.022045   \n",
       "331    AR9HFLYSXUOYS  B00001IVWH  4.022095  4.022148   \n",
       "36348  AR9HFLYSXUOYS  B00BG2LKLO  4.022095  4.022149   \n",
       "30077  AR9HFLYSXUOYS  B0050SVHZO  4.022095  4.022040   \n",
       "71473  AR9HFLYSXUOYS  B01CG8TT64  4.022095  4.022151   \n",
       "\n",
       "                         details  Iu   Ui       err  \n",
       "69089  {'was_impossible': False}   1    3  0.000009  \n",
       "22995  {'was_impossible': False}   1    2  0.000012  \n",
       "16188  {'was_impossible': False}   1    8  0.000035  \n",
       "40659  {'was_impossible': False}   1    6  0.000040  \n",
       "45789  {'was_impossible': False}   1    1  0.000045  \n",
       "70440  {'was_impossible': False}   1    2  0.000049  \n",
       "331    {'was_impossible': False}   1    4  0.000053  \n",
       "36348  {'was_impossible': False}   1    1  0.000054  \n",
       "30077  {'was_impossible': False}   1  287  0.000054  \n",
       "71473  {'was_impossible': False}   1    1  0.000056  "
      ]
     },
     "execution_count": 23,
     "metadata": {},
     "output_type": "execute_result"
    }
   ],
   "source": [
    "best_predictions = df.sort_values(by='err')[:10]\n",
    "best_predictions"
   ]
  },
  {
   "cell_type": "code",
   "execution_count": 24,
   "id": "34299dd2",
   "metadata": {},
   "outputs": [
    {
     "data": {
      "text/html": [
       "<div>\n",
       "<style scoped>\n",
       "    .dataframe tbody tr th:only-of-type {\n",
       "        vertical-align: middle;\n",
       "    }\n",
       "\n",
       "    .dataframe tbody tr th {\n",
       "        vertical-align: top;\n",
       "    }\n",
       "\n",
       "    .dataframe thead th {\n",
       "        text-align: right;\n",
       "    }\n",
       "</style>\n",
       "<table border=\"1\" class=\"dataframe\">\n",
       "  <thead>\n",
       "    <tr style=\"text-align: right;\">\n",
       "      <th></th>\n",
       "      <th>uid</th>\n",
       "      <th>iid</th>\n",
       "      <th>rui</th>\n",
       "      <th>est</th>\n",
       "      <th>details</th>\n",
       "      <th>Iu</th>\n",
       "      <th>Ui</th>\n",
       "      <th>err</th>\n",
       "    </tr>\n",
       "  </thead>\n",
       "  <tbody>\n",
       "    <tr>\n",
       "      <th>49943</th>\n",
       "      <td>AR9HFLYSXUOYS</td>\n",
       "      <td>B00TDGD1WG</td>\n",
       "      <td>4.022095</td>\n",
       "      <td>1.787658</td>\n",
       "      <td>{'was_impossible': False}</td>\n",
       "      <td>1</td>\n",
       "      <td>50</td>\n",
       "      <td>2.234437</td>\n",
       "    </tr>\n",
       "    <tr>\n",
       "      <th>55219</th>\n",
       "      <td>AR9HFLYSXUOYS</td>\n",
       "      <td>B00ZTO4OF4</td>\n",
       "      <td>4.022095</td>\n",
       "      <td>1.752149</td>\n",
       "      <td>{'was_impossible': False}</td>\n",
       "      <td>1</td>\n",
       "      <td>41</td>\n",
       "      <td>2.269946</td>\n",
       "    </tr>\n",
       "    <tr>\n",
       "      <th>63446</th>\n",
       "      <td>AR9HFLYSXUOYS</td>\n",
       "      <td>B01CREKLC8</td>\n",
       "      <td>4.022095</td>\n",
       "      <td>1.750386</td>\n",
       "      <td>{'was_impossible': False}</td>\n",
       "      <td>1</td>\n",
       "      <td>187</td>\n",
       "      <td>2.271709</td>\n",
       "    </tr>\n",
       "    <tr>\n",
       "      <th>31351</th>\n",
       "      <td>AR9HFLYSXUOYS</td>\n",
       "      <td>B008VFUQX2</td>\n",
       "      <td>4.022095</td>\n",
       "      <td>1.727051</td>\n",
       "      <td>{'was_impossible': False}</td>\n",
       "      <td>1</td>\n",
       "      <td>23</td>\n",
       "      <td>2.295044</td>\n",
       "    </tr>\n",
       "    <tr>\n",
       "      <th>21026</th>\n",
       "      <td>AR9HFLYSXUOYS</td>\n",
       "      <td>B002CMU7V6</td>\n",
       "      <td>4.022095</td>\n",
       "      <td>1.707631</td>\n",
       "      <td>{'was_impossible': False}</td>\n",
       "      <td>1</td>\n",
       "      <td>95</td>\n",
       "      <td>2.314464</td>\n",
       "    </tr>\n",
       "    <tr>\n",
       "      <th>51744</th>\n",
       "      <td>AR9HFLYSXUOYS</td>\n",
       "      <td>B00W1YX2XK</td>\n",
       "      <td>4.022095</td>\n",
       "      <td>1.704280</td>\n",
       "      <td>{'was_impossible': False}</td>\n",
       "      <td>1</td>\n",
       "      <td>70</td>\n",
       "      <td>2.317815</td>\n",
       "    </tr>\n",
       "    <tr>\n",
       "      <th>23014</th>\n",
       "      <td>AR9HFLYSXUOYS</td>\n",
       "      <td>B00452VGZW</td>\n",
       "      <td>4.022095</td>\n",
       "      <td>1.487306</td>\n",
       "      <td>{'was_impossible': False}</td>\n",
       "      <td>1</td>\n",
       "      <td>354</td>\n",
       "      <td>2.534789</td>\n",
       "    </tr>\n",
       "    <tr>\n",
       "      <th>66275</th>\n",
       "      <td>AR9HFLYSXUOYS</td>\n",
       "      <td>B01EGHIB58</td>\n",
       "      <td>4.022095</td>\n",
       "      <td>1.463742</td>\n",
       "      <td>{'was_impossible': False}</td>\n",
       "      <td>1</td>\n",
       "      <td>41</td>\n",
       "      <td>2.558353</td>\n",
       "    </tr>\n",
       "    <tr>\n",
       "      <th>65024</th>\n",
       "      <td>AR9HFLYSXUOYS</td>\n",
       "      <td>B00ZQD7VNK</td>\n",
       "      <td>4.022095</td>\n",
       "      <td>1.431929</td>\n",
       "      <td>{'was_impossible': False}</td>\n",
       "      <td>1</td>\n",
       "      <td>369</td>\n",
       "      <td>2.590166</td>\n",
       "    </tr>\n",
       "    <tr>\n",
       "      <th>43930</th>\n",
       "      <td>AR9HFLYSXUOYS</td>\n",
       "      <td>B00LPBD2WG</td>\n",
       "      <td>4.022095</td>\n",
       "      <td>1.408070</td>\n",
       "      <td>{'was_impossible': False}</td>\n",
       "      <td>1</td>\n",
       "      <td>37</td>\n",
       "      <td>2.614025</td>\n",
       "    </tr>\n",
       "  </tbody>\n",
       "</table>\n",
       "</div>"
      ],
      "text/plain": [
       "                 uid         iid       rui       est  \\\n",
       "49943  AR9HFLYSXUOYS  B00TDGD1WG  4.022095  1.787658   \n",
       "55219  AR9HFLYSXUOYS  B00ZTO4OF4  4.022095  1.752149   \n",
       "63446  AR9HFLYSXUOYS  B01CREKLC8  4.022095  1.750386   \n",
       "31351  AR9HFLYSXUOYS  B008VFUQX2  4.022095  1.727051   \n",
       "21026  AR9HFLYSXUOYS  B002CMU7V6  4.022095  1.707631   \n",
       "51744  AR9HFLYSXUOYS  B00W1YX2XK  4.022095  1.704280   \n",
       "23014  AR9HFLYSXUOYS  B00452VGZW  4.022095  1.487306   \n",
       "66275  AR9HFLYSXUOYS  B01EGHIB58  4.022095  1.463742   \n",
       "65024  AR9HFLYSXUOYS  B00ZQD7VNK  4.022095  1.431929   \n",
       "43930  AR9HFLYSXUOYS  B00LPBD2WG  4.022095  1.408070   \n",
       "\n",
       "                         details  Iu   Ui       err  \n",
       "49943  {'was_impossible': False}   1   50  2.234437  \n",
       "55219  {'was_impossible': False}   1   41  2.269946  \n",
       "63446  {'was_impossible': False}   1  187  2.271709  \n",
       "31351  {'was_impossible': False}   1   23  2.295044  \n",
       "21026  {'was_impossible': False}   1   95  2.314464  \n",
       "51744  {'was_impossible': False}   1   70  2.317815  \n",
       "23014  {'was_impossible': False}   1  354  2.534789  \n",
       "66275  {'was_impossible': False}   1   41  2.558353  \n",
       "65024  {'was_impossible': False}   1  369  2.590166  \n",
       "43930  {'was_impossible': False}   1   37  2.614025  "
      ]
     },
     "execution_count": 24,
     "metadata": {},
     "output_type": "execute_result"
    }
   ],
   "source": [
    "worst_predictions = df.sort_values(by='err')[-10:]\n",
    "worst_predictions"
   ]
  },
  {
   "cell_type": "code",
   "execution_count": 25,
   "id": "603ed9d4",
   "metadata": {},
   "outputs": [
    {
     "name": "stdout",
     "output_type": "stream",
     "text": [
      "RMSE: 0.3678\n"
     ]
    },
    {
     "data": {
      "text/plain": [
       "0.36781403083068237"
      ]
     },
     "execution_count": 25,
     "metadata": {},
     "output_type": "execute_result"
    }
   ],
   "source": [
    "accuracy.rmse(predictions, verbose=True)"
   ]
  },
  {
   "cell_type": "code",
   "execution_count": 26,
   "id": "ebe9254b",
   "metadata": {},
   "outputs": [
    {
     "name": "stdout",
     "output_type": "stream",
     "text": [
      "User ID: AR9HFLYSXUOYS Recommended items: ['B00005MNRY', 'B00104UBY0', 'B00136MBHA', 'B0015HZLVA', 'B001CXYMFS', 'B002BRZ9G0', 'B002UVG722', 'B000B6OR4I', 'B005C1B3C6', 'B0094X2066']\n"
     ]
    }
   ],
   "source": [
    "def get_top_n(predictions, n=10):\n",
    "    \"\"\"Return the top-N recommendation for each user from a set of predictions.\n",
    "\n",
    "    Args:\n",
    "        predictions(list of Prediction objects): The list of predictions, as\n",
    "            returned by the test method of an algorithm.\n",
    "        n(int): The number of recommendation to output for each user. Default\n",
    "            is 10.\n",
    "\n",
    "    Returns:\n",
    "    A dict where keys are user (raw) ids and values are lists of tuples:\n",
    "        [(raw item id, rating estimation), ...] of size n.\n",
    "    \"\"\"\n",
    "\n",
    "    # First map the predictions to each user.\n",
    "    top_n = defaultdict(list)\n",
    "    for uid, iid, true_r, est, _ in predictions:\n",
    "        top_n[uid].append((iid, est))\n",
    "\n",
    "    # Then sort the predictions for each user and retrieve the k highest ones.\n",
    "    for uid, user_ratings in top_n.items():\n",
    "        user_ratings.sort(key=lambda x: x[1], reverse=True)\n",
    "        top_n[uid] = user_ratings[:n]\n",
    "\n",
    "    return top_n\n",
    "\n",
    "top_n = get_top_n(predictions, n=10)\n",
    "\n",
    "for uid, user_ratings in top_n.items():\n",
    "    print(\"User ID:\", uid, \"Recommended items:\", [iid for (iid, _) in user_ratings])"
   ]
  },
  {
   "cell_type": "code",
   "execution_count": 27,
   "id": "4bbb0ce4",
   "metadata": {},
   "outputs": [],
   "source": [
    "METADATA_JSON_PATH = \"VideoGames_meta.json\"\n",
    "\n",
    "with open(METADATA_JSON_PATH) as f:\n",
    "    meta_json = json.load(f)\n",
    "\n",
    "\n",
    "df_meta = pd.json_normalize(meta_json)"
   ]
  },
  {
   "cell_type": "code",
   "execution_count": 29,
   "id": "f87db31a",
   "metadata": {},
   "outputs": [
    {
     "data": {
      "text/html": [
       "<div>\n",
       "<style scoped>\n",
       "    .dataframe tbody tr th:only-of-type {\n",
       "        vertical-align: middle;\n",
       "    }\n",
       "\n",
       "    .dataframe tbody tr th {\n",
       "        vertical-align: top;\n",
       "    }\n",
       "\n",
       "    .dataframe thead th {\n",
       "        text-align: right;\n",
       "    }\n",
       "</style>\n",
       "<table border=\"1\" class=\"dataframe\">\n",
       "  <thead>\n",
       "    <tr style=\"text-align: right;\">\n",
       "      <th></th>\n",
       "      <th>asin</th>\n",
       "    </tr>\n",
       "  </thead>\n",
       "  <tbody>\n",
       "    <tr>\n",
       "      <th>0</th>\n",
       "      <td>0042000742</td>\n",
       "    </tr>\n",
       "    <tr>\n",
       "      <th>1</th>\n",
       "      <td>0078764343</td>\n",
       "    </tr>\n",
       "    <tr>\n",
       "      <th>2</th>\n",
       "      <td>0276425316</td>\n",
       "    </tr>\n",
       "    <tr>\n",
       "      <th>3</th>\n",
       "      <td>0324411812</td>\n",
       "    </tr>\n",
       "    <tr>\n",
       "      <th>4</th>\n",
       "      <td>0439335310</td>\n",
       "    </tr>\n",
       "    <tr>\n",
       "      <th>...</th>\n",
       "      <td>...</td>\n",
       "    </tr>\n",
       "    <tr>\n",
       "      <th>84814</th>\n",
       "      <td>B01HJ1521Y</td>\n",
       "    </tr>\n",
       "    <tr>\n",
       "      <th>84815</th>\n",
       "      <td>B01HJ14TTA</td>\n",
       "    </tr>\n",
       "    <tr>\n",
       "      <th>84816</th>\n",
       "      <td>B01HJ14OT0</td>\n",
       "    </tr>\n",
       "    <tr>\n",
       "      <th>84817</th>\n",
       "      <td>B01HJC33WS</td>\n",
       "    </tr>\n",
       "    <tr>\n",
       "      <th>84818</th>\n",
       "      <td>B01HJEBIAA</td>\n",
       "    </tr>\n",
       "  </tbody>\n",
       "</table>\n",
       "<p>84819 rows × 1 columns</p>\n",
       "</div>"
      ],
      "text/plain": [
       "             asin\n",
       "0      0042000742\n",
       "1      0078764343\n",
       "2      0276425316\n",
       "3      0324411812\n",
       "4      0439335310\n",
       "...           ...\n",
       "84814  B01HJ1521Y\n",
       "84815  B01HJ14TTA\n",
       "84816  B01HJ14OT0\n",
       "84817  B01HJC33WS\n",
       "84818  B01HJEBIAA\n",
       "\n",
       "[84819 rows x 1 columns]"
      ]
     },
     "execution_count": 29,
     "metadata": {},
     "output_type": "execute_result"
    }
   ],
   "source": [
    "df_meta[['asin']]"
   ]
  },
  {
   "cell_type": "code",
   "execution_count": 28,
   "id": "1ddb9839",
   "metadata": {},
   "outputs": [],
   "source": [
    "recommendations = {uid: [iid for (iid, _) in user_ratings] for uid, user_ratings in top_n.items()}"
   ]
  },
  {
   "cell_type": "code",
   "execution_count": 30,
   "id": "4d9e370a",
   "metadata": {},
   "outputs": [],
   "source": [
    "def get_item(asin):\n",
    "    return df_meta[df_meta['asin'].str.contains(asin)]\n",
    "\n",
    "def get_recommendations(uid):\n",
    "    items_id = recommendations[uid]\n",
    "    return [get_item(item).head(1)['title'].iloc[0] for item in items_id]"
   ]
  },
  {
   "cell_type": "code",
   "execution_count": 31,
   "id": "356e47de",
   "metadata": {},
   "outputs": [
    {
     "name": "stdout",
     "output_type": "stream",
     "text": [
      "Random user: AR9HFLYSXUOYS\n",
      "Recommendations\n"
     ]
    },
    {
     "data": {
      "text/plain": [
       "['Panzer Front',\n",
       " 'Mamas &amp; Papas Soft Toy, Peanut Elephant',\n",
       " 'The World Ends With You',\n",
       " ' Tales of Vesperia - Xbox 360',\n",
       " 'Thrustmaster T-Flight Hotas X Flight Stick',\n",
       " 'New Super Mario Bros. Wii',\n",
       " 'New Super Mario Bros. Wii',\n",
       " 'Cyclops CYC-80RH 1 LED Utility Bore Light, Black',\n",
       " '3C PRO 16GB 16G Class 10 C10 microSD microSDHC SDHC Extreme Speed Memory Card with SD Adapter and R13 Micro USB Flash Card Reader / Writer',\n",
       " 'Nintendo Nunchuk Controller - White']"
      ]
     },
     "execution_count": 31,
     "metadata": {},
     "output_type": "execute_result"
    }
   ],
   "source": [
    "random_user = random.choice(list(recommendations.keys()))\n",
    "\n",
    "print(\"Random user:\",random_user)\n",
    "print(\"Recommendations\")\n",
    "get_recommendations(random_user)"
   ]
  }
 ],
 "metadata": {
  "kernelspec": {
   "display_name": "venv",
   "language": "python",
   "name": "python3"
  },
  "language_info": {
   "codemirror_mode": {
    "name": "ipython",
    "version": 3
   },
   "file_extension": ".py",
   "mimetype": "text/x-python",
   "name": "python",
   "nbconvert_exporter": "python",
   "pygments_lexer": "ipython3",
   "version": "3.8.10"
  },
  "vscode": {
   "interpreter": {
    "hash": "bc48bbfaabcdc70a64122a8f7d22996db5f8c53d341187af5e821701bce3d8de"
   }
  }
 },
 "nbformat": 4,
 "nbformat_minor": 5
}
